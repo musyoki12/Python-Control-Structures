{
  "nbformat": 4,
  "nbformat_minor": 0,
  "metadata": {
    "colab": {
      "provenance": [],
      "authorship_tag": "ABX9TyPEncMnF7bQ1PyBiQ/cNJBC",
      "include_colab_link": true
    },
    "kernelspec": {
      "name": "python3",
      "display_name": "Python 3"
    },
    "language_info": {
      "name": "python"
    }
  },
  "cells": [
    {
      "cell_type": "markdown",
      "metadata": {
        "id": "view-in-github",
        "colab_type": "text"
      },
      "source": [
        "<a href=\"https://colab.research.google.com/github/musyoki12/Python-control-structures/blob/main/Python_Control_Structures.ipynb\" target=\"_parent\"><img src=\"https://colab.research.google.com/assets/colab-badge.svg\" alt=\"Open In Colab\"/></a>"
      ]
    },
    {
      "cell_type": "code",
      "execution_count": null,
      "metadata": {
        "colab": {
          "base_uri": "https://localhost:8080/"
        },
        "id": "J7SehUtL4IlU",
        "outputId": "737b8b48-8920-4836-e3c2-e502286d74fb"
      },
      "outputs": [
        {
          "output_type": "stream",
          "name": "stdout",
          "text": [
            "my name is\n"
          ]
        }
      ],
      "source": [
        "print(\"my name is\")"
      ]
    },
    {
      "cell_type": "markdown",
      "source": [
        "variables"
      ],
      "metadata": {
        "id": "uaAoLwmF8NNB"
      }
    },
    {
      "cell_type": "code",
      "source": [
        "a=10\n",
        "print(a)"
      ],
      "metadata": {
        "colab": {
          "base_uri": "https://localhost:8080/"
        },
        "id": "Etxojsgd8PGp",
        "outputId": "1a619eec-281d-4922-c52b-fe2944465b80"
      },
      "execution_count": null,
      "outputs": [
        {
          "output_type": "stream",
          "name": "stdout",
          "text": [
            "10\n"
          ]
        }
      ]
    },
    {
      "cell_type": "code",
      "source": [
        "# x= \"awesome\"\n",
        "# def myfun ():\n",
        "#   print(\"python is \" + x)\n",
        "#   myfun()\n",
        "# x = \"awesome\"\n",
        "\n",
        "# def myfunc():\n",
        "#   print(\"Python is \" + x)\n",
        "\n",
        "# myfunc()\n",
        "\n",
        "x = \"sweet\"\n",
        "\n",
        "def myfunc():\n",
        "  print(\"Python is \" + x)\n",
        "\n",
        "  myfunc()"
      ],
      "metadata": {
        "id": "ME1mrfBwBYFy"
      },
      "execution_count": null,
      "outputs": []
    },
    {
      "cell_type": "markdown",
      "source": [
        "programming languages\n",
        "1.java\n",
        "2.c++\n",
        "3.c\n",
        "4.python\n",
        "5.javascript\n",
        "6.C#\n",
        "7.HTML\n",
        "8.Css\n",
        "\n",
        "\n",
        "\n",
        "\n",
        "\n",
        "\n",
        "frontend and back-end\n",
        "full stack\n",
        "CRUD Operations\n",
        "post,get,delete ,update\n",
        "api\n",
        "hosting--\n",
        "types of operatings systems-windows,linux,ios,\n",
        "virtualization ...virtual box,vmare"
      ],
      "metadata": {
        "id": "fo2gn37mFFoL"
      }
    },
    {
      "cell_type": "code",
      "source": [],
      "metadata": {
        "id": "L-Y0DslR7HwF"
      },
      "execution_count": null,
      "outputs": []
    },
    {
      "cell_type": "code",
      "source": [
        "num =int(input(\"Enter a Number\"))\n",
        "if(num %2 == 0):\n",
        "  print(\"num is even\")"
      ],
      "metadata": {
        "colab": {
          "base_uri": "https://localhost:8080/"
        },
        "id": "wadFF5jNEpGP",
        "outputId": "c1b9260c-fddf-4037-9a71-3e375a03e9f1"
      },
      "execution_count": null,
      "outputs": [
        {
          "output_type": "stream",
          "name": "stdout",
          "text": [
            "Enter a Number4\n",
            "num is even\n"
          ]
        }
      ]
    }
  ]
}